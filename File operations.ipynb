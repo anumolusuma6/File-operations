{
 "cells": [
  {
   "cell_type": "code",
   "execution_count": null,
   "metadata": {},
   "outputs": [],
   "source": [
    "#IMPORT THE LIBRARIES\n",
    "import os\n",
    "import shutil\n",
    "import sys"
   ]
  },
  {
   "cell_type": "code",
   "execution_count": null,
   "metadata": {},
   "outputs": [],
   "source": [
    "def move_to_paid_folder(file_path):\n",
    "    confirmed_folder = \"PATH\"\n",
    "    paid_folder = \"PATH\"\n",
    "\n",
    "    # Construct source and destination paths\n",
    "    source_path = os.path.join(confirmed_folder, os.path.basename(file_path))\n",
    "    destination_path = os.path.join(paid_folder, os.path.basename(file_path))\n",
    "\n",
    "    # Move the file from confirmed folder to paid folder\n",
    "    try:\n",
    "        shutil.move(source_path, destination_path)\n",
    "        print(f\"File '{os.path.basename (file_path)}' moved successfully to the paid folder.\")\n",
    "    except Exception as e:\n",
    "        print(f\"Error moving the file '{os.path.basename (file_path)}': {str(e)}\")\n",
    "\n",
    "if __name__ == \"__main__\":\n",
    "    file_path = sys.argv[1]\n",
    "    move_to_paid_folder(file_path)"
   ]
  }
 ],
 "metadata": {
  "kernelspec": {
   "display_name": "Python 3",
   "language": "python",
   "name": "python3"
  },
  "language_info": {
   "name": "python",
   "version": "3.11.9"
  }
 },
 "nbformat": 4,
 "nbformat_minor": 2
}
